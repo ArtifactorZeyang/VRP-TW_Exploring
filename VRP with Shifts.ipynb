{
 "cells": [
  {
   "cell_type": "code",
   "execution_count": 1,
   "metadata": {},
   "outputs": [],
   "source": [
    "import numpy as np\n",
    "import pandas as pd\n",
    "import math\n",
    "import random\n",
    "\n",
    "import matplotlib.pyplot as plt\n",
    "% matplotlib inline\n",
    "\n",
    "from __future__ import print_function\n",
    "from ortools.constraint_solver import pywrapcp\n",
    "from ortools.constraint_solver import routing_enums_pb2"
   ]
  },
  {
   "cell_type": "code",
   "execution_count": 2,
   "metadata": {},
   "outputs": [],
   "source": [
    "# Locations & Coordinates in North ZhaoXian\n",
    "\n",
    "coordinate_list = [\n",
    " 'depot', 114.748125, 37.750201,\n",
    " '宋城', 114.903234,37.85197,\n",
    " '赵刀寺', 114.72869,37.781231,\n",
    " '东阳台', 114.740252,37.823862,\n",
    " '常洋', 114.803039,37.776488,\n",
    " '小马圈', 114.804022,37.851744,\n",
    " '豆腐庄', 114.851979,37.843736,\n",
    " '前大章', 114.865526,37.865367,\n",
    " '梅花', 114.8317,37.891582, # 梅花\n",
    " '永安', 114.77435,37.83808,\n",
    " '乡官', 114.797613,37.867981,\n",
    " '曹古疃', 114.779879,37.808557,\n",
    " '鲁家庄', 114.767719,37.845097, # 栾城区 \n",
    " '安王村', 114.71166,37.798524,\n",
    " '北何庄', 114.8197,37.804607,\n",
    " '大马', 114.887135,37.868492,\n",
    " '投头庄', 114.840102,37.855959,\n",
    " '贾店村', 114.726521,37.801013,\n",
    " '石家庄', 114.890489,37.824124,\n",
    " '范村', 114.698397,37.79639,\n",
    " '北解疃', 114.795109,37.7917,\n",
    " '西罗村', 114.871172,37.853288,\n",
    " '仪停', 114.782591,37.832019,\n",
    " '后大章', 114.865834,37.867755,\n",
    " '彭家庄', 114.792664,37.804643,\n",
    " '林子', 114.910071,37.805321,\n",
    " '四德', 114.851108,37.87908,\n",
    " '东罗村', 114.882305,37.853451,\n",
    " '北轮城', 114.70097,37.788896,\n",
    " '肖庄', 114.770207,37.791428,\n",
    " '高庄', 114.902043,37.730501,\n",
    " '各南', 114.910162,37.817456,\n",
    " '泥沟', 114.833553,37.800309,\n",
    " '台兴庄', 114.751193,37.812218,\n",
    " '马谷庄', 114.762469,37.810494,\n",
    " '双庙', 114.78777,37.843918,\n",
    " '各子', 114.8928,37.837465, # 一村 二村 三村？\n",
    " '大吕村', 114.831951,37.823025,\n",
    " '齐家庄', 114.817472,37.846462,\n",
    " '北辛庄', 114.866827,37.81841,\n",
    " '王家庄', 114.806625,37.835115,\n",
    " '尚庄', 114.875416,37.889713, #藁城区\n",
    " '固德', 114.772933,37.858432,\n",
    " '徐家庄', 114.871728,37.836585,\n",
    " '新宅店', 114.726219,37.820187, #村居委会\n",
    " '黎村', 114.821105,37.790131,\n",
    " '史家庄', 114.798944,37.81971,\n",
    " '小吕村', 114.840012,37.816629\n",
    "]\n",
    "\n",
    "coordinate_array = np.array(coordinate_list).reshape(48,3)"
   ]
  },
  {
   "cell_type": "code",
   "execution_count": 3,
   "metadata": {
    "scrolled": true
   },
   "outputs": [
    {
     "data": {
      "text/plain": [
       "array([['depot', '114.748125', '37.750201'],\n",
       "       ['宋城', '114.903234', '37.85197'],\n",
       "       ['赵刀寺', '114.72869', '37.781231'],\n",
       "       ['东阳台', '114.740252', '37.823862'],\n",
       "       ['常洋', '114.803039', '37.776488'],\n",
       "       ['小马圈', '114.804022', '37.851744'],\n",
       "       ['豆腐庄', '114.851979', '37.843736'],\n",
       "       ['前大章', '114.865526', '37.865367'],\n",
       "       ['梅花', '114.8317', '37.891582'],\n",
       "       ['永安', '114.77435', '37.83808'],\n",
       "       ['乡官', '114.797613', '37.867981'],\n",
       "       ['曹古疃', '114.779879', '37.808557'],\n",
       "       ['鲁家庄', '114.767719', '37.845097'],\n",
       "       ['安王村', '114.71166', '37.798524'],\n",
       "       ['北何庄', '114.8197', '37.804607'],\n",
       "       ['大马', '114.887135', '37.868492'],\n",
       "       ['投头庄', '114.840102', '37.855959'],\n",
       "       ['贾店村', '114.726521', '37.801013'],\n",
       "       ['石家庄', '114.890489', '37.824124'],\n",
       "       ['范村', '114.698397', '37.79639'],\n",
       "       ['北解疃', '114.795109', '37.7917'],\n",
       "       ['西罗村', '114.871172', '37.853288'],\n",
       "       ['仪停', '114.782591', '37.832019'],\n",
       "       ['后大章', '114.865834', '37.867755'],\n",
       "       ['彭家庄', '114.792664', '37.804643'],\n",
       "       ['林子', '114.910071', '37.805321'],\n",
       "       ['四德', '114.851108', '37.87908'],\n",
       "       ['东罗村', '114.882305', '37.853451'],\n",
       "       ['北轮城', '114.70097', '37.788896'],\n",
       "       ['肖庄', '114.770207', '37.791428'],\n",
       "       ['高庄', '114.902043', '37.730501'],\n",
       "       ['各南', '114.910162', '37.817456'],\n",
       "       ['泥沟', '114.833553', '37.800309'],\n",
       "       ['台兴庄', '114.751193', '37.812218'],\n",
       "       ['马谷庄', '114.762469', '37.810494'],\n",
       "       ['双庙', '114.78777', '37.843918'],\n",
       "       ['各子', '114.8928', '37.837465'],\n",
       "       ['大吕村', '114.831951', '37.823025'],\n",
       "       ['齐家庄', '114.817472', '37.846462'],\n",
       "       ['北辛庄', '114.866827', '37.81841'],\n",
       "       ['王家庄', '114.806625', '37.835115'],\n",
       "       ['尚庄', '114.875416', '37.889713'],\n",
       "       ['固德', '114.772933', '37.858432'],\n",
       "       ['徐家庄', '114.871728', '37.836585'],\n",
       "       ['新宅店', '114.726219', '37.820187'],\n",
       "       ['黎村', '114.821105', '37.790131'],\n",
       "       ['史家庄', '114.798944', '37.81971'],\n",
       "       ['小吕村', '114.840012', '37.816629']], dtype='<U10')"
      ]
     },
     "execution_count": 3,
     "metadata": {},
     "output_type": "execute_result"
    }
   ],
   "source": [
    "coordinate_array"
   ]
  },
  {
   "cell_type": "code",
   "execution_count": 76,
   "metadata": {},
   "outputs": [
    {
     "data": {
      "text/plain": [
       "[0, 24, 38, 28, 19, 40, 28, 33, 45]"
      ]
     },
     "execution_count": 76,
     "metadata": {},
     "output_type": "execute_result"
    }
   ],
   "source": [
    "# Randomly generate 8 locations + warehouse (0) for showcase\n",
    "\n",
    "def rand_loc():\n",
    "    rand_loc_list = [0]\n",
    "\n",
    "    while ll < 8:\n",
    "        rand_loc_list.append(random.randint(1,47))\n",
    "        rand_loc_list = set(rand_loc_list)\n",
    "        ll = len(rand_loc_list)\n",
    "\n",
    "    return rand_loc_list\n",
    "\n",
    "rand_loc_list"
   ]
  },
  {
   "cell_type": "code",
   "execution_count": 61,
   "metadata": {},
   "outputs": [],
   "source": [
    "# extreme cases: rand_loc_list = [0, 1,3,13,17,25,30,31,44]"
   ]
  },
  {
   "cell_type": "code",
   "execution_count": 41,
   "metadata": {},
   "outputs": [
    {
     "data": {
      "image/png": "[encoded data removed]",
      "text/plain": [
       "<Figure size 1080x720 with 1 Axes>"
      ]
     },
     "metadata": {},
     "output_type": "display_data"
    }
   ],
   "source": [
    "def exp_data_plot():\n",
    "    \n",
    "    base = [114.748125, 37.750201]\n",
    "    fig = plt.figure(figsize = (15,10))  \n",
    "    ax1 = fig.add_subplot(111) \n",
    "    \n",
    "    lats = np.asarray(coordinate_array[:,1], dtype=float)\n",
    "    lngs = np.asarray(coordinate_array[:,2], dtype=float)\n",
    "    \n",
    "    vis_lats = np.asarray(list(coordinate_array[lat,1] for lat in rand_loc_list[1:]), dtype=float)\n",
    "    vis_lngs = np.asarray(list(coordinate_array[lng,2] for lng in rand_loc_list[1:]), dtype=float)\n",
    "\n",
    "    ax1.set_title('Locations in North ZhaoXian')  \n",
    "    plt.xlabel('lats')  \n",
    "    plt.ylabel('lngs')  \n",
    "\n",
    "    ax1.scatter(lats, lngs, c = 'r',marker = 'o') \n",
    "    ax1.scatter(vis_lats, vis_lngs, c = 'b',marker = 'o') \n",
    "    ax1.scatter(base[0], base[1], c = 'g',marker = 'o')\n",
    "    \n",
    "    plt.show() \n",
    "\n",
    "exp_data_plot()"
   ]
  },
  {
   "cell_type": "code",
   "execution_count": 42,
   "metadata": {},
   "outputs": [],
   "source": [
    "# Formulate the data\n",
    "\n",
    "def data_example():\n",
    "    test_data = {}\n",
    "    test_data['name_locations'] = [str(coordinate_array[nl][0]) for nl in rand_loc_list]\n",
    "    test_data['coordinates'] = [(float(coordinate_array[coor][1]), float(coordinate_array[coor][2])) for coor in rand_loc_list]\n",
    "    test_data['num_locations'] = len(test_data['coordinates'])\n",
    "    test_data[\"num_vehicles\"] = 2\n",
    "    test_data[\"depot\"] = 0\n",
    "    return test_data"
   ]
  },
  {
   "cell_type": "code",
   "execution_count": 43,
   "metadata": {},
   "outputs": [],
   "source": [
    "def manhattan_distance(position_1, position_2):\n",
    "    # Computes the Manhattan distance between two points in km \n",
    "    \n",
    "    return (abs(position_1[0] - position_2[0]) * 111 + abs(position_1[1] - position_2[1]) * 85)"
   ]
  },
  {
   "cell_type": "code",
   "execution_count": 44,
   "metadata": {},
   "outputs": [],
   "source": [
    "def create_distance_callback(test_data):\n",
    "    # Creates callback to return distance between points\n",
    "    \n",
    "    _distances = {}\n",
    "\n",
    "    for from_node in range(test_data[\"num_locations\"]):\n",
    "        _distances[from_node] = {}\n",
    "        for to_node in range(test_data[\"num_locations\"]):\n",
    "            if from_node == to_node:\n",
    "                _distances[from_node][to_node] = 0\n",
    "            else:\n",
    "                _distances[from_node][to_node] = (manhattan_distance(\n",
    "                    test_data[\"coordinates\"][from_node],\n",
    "                    test_data[\"coordinates\"][to_node]))\n",
    "\n",
    "    def distance_callback(from_node, to_node):\n",
    "        return _distances[from_node][to_node]\n",
    "\n",
    "    return distance_callback"
   ]
  },
  {
   "cell_type": "code",
   "execution_count": 58,
   "metadata": {},
   "outputs": [],
   "source": [
    "def add_distance_dimension(routing, distance_callback):\n",
    "    \"\"\"Add Global Span constraint\"\"\"\n",
    "    distance = 'Distance'\n",
    "    maximum_distance = 60  # Maximum distance per vehicle.\n",
    "    routing.AddDimension(\n",
    "        distance_callback,\n",
    "        0,  # null slack\n",
    "        maximum_distance,\n",
    "        True,  # start cumul to zero\n",
    "        distance)\n",
    "    distance_dimension = routing.GetDimensionOrDie(distance)\n",
    "    # Try to minimize the max distance among vehicles.\n",
    "    distance_dimension.SetGlobalSpanCostCoefficient(100)"
   ]
  },
  {
   "cell_type": "code",
   "execution_count": 53,
   "metadata": {},
   "outputs": [],
   "source": [
    "def print_solution(data, routing, assignment):\n",
    "\n",
    "    total_distance = 0\n",
    "    for vehicle_id in range(data[\"num_vehicles\"]):\n",
    "        index = routing.Start(vehicle_id)\n",
    "        plan_output = 'Route for shift {}:\\n'.format(vehicle_id)\n",
    "        distance = 0\n",
    "        while not routing.IsEnd(index):\n",
    "            plan_output += ' {} ->'.format(data['name_locations'][routing.IndexToNode(index)])\n",
    "            previous_index = index\n",
    "            index = assignment.Value(routing.NextVar(index))\n",
    "            distance += routing.GetArcCostForVehicle(previous_index, index, vehicle_id)\n",
    "        plan_output += ' {}\\n'.format(data['name_locations'][routing.IndexToNode(index)])\n",
    "        plan_output += 'Distance of route: {}km\\n'.format(distance)\n",
    "        print(plan_output)\n",
    "        total_distance += distance\n",
    "    print('Total distance of all routes: {}km'.format(total_distance))"
   ]
  },
  {
   "cell_type": "code",
   "execution_count": 59,
   "metadata": {},
   "outputs": [],
   "source": [
    "def main():\n",
    "\n",
    "    data = data_example()\n",
    "    \n",
    "    # Create Routing Model\n",
    "    routing = pywrapcp.RoutingModel(\n",
    "        data[\"num_locations\"],\n",
    "        data[\"num_vehicles\"],\n",
    "        data[\"depot\"])\n",
    "    \n",
    "    # Define weight of each edge\n",
    "    distance_callback = create_distance_callback(data)\n",
    "    routing.SetArcCostEvaluatorOfAllVehicles(distance_callback)\n",
    "    add_distance_dimension(routing, distance_callback)\n",
    "    \n",
    "    # Setting first solution heuristic (cheapest addition).\n",
    "    search_parameters = pywrapcp.RoutingModel.DefaultSearchParameters()\n",
    "    search_parameters.first_solution_strategy = (routing_enums_pb2.FirstSolutionStrategy.PATH_CHEAPEST_ARC)\n",
    "    \n",
    "    # Solve the problem.\n",
    "    assignment = routing.SolveWithParameters(search_parameters)\n",
    "    if assignment:\n",
    "        print_solution(data, routing, assignment)"
   ]
  },
  {
   "cell_type": "code",
   "execution_count": 60,
   "metadata": {
    "scrolled": true
   },
   "outputs": [
    {
     "name": "stdout",
     "output_type": "stream",
     "text": [
      "Route for shift 0:\n",
      " depot -> 高庄 -> 宋城 -> depot\n",
      "Distance of route: 53km\n",
      "\n",
      "Route for shift 1:\n",
      " depot -> 贾店村 -> 安王村 -> 新宅店 -> 东阳台 -> 各南 -> 林子 -> depot\n",
      "Distance of route: 53km\n",
      "\n",
      "Total distance of all routes: 106km\n"
     ]
    }
   ],
   "source": [
    "main()"
   ]
  },
  {
   "cell_type": "code",
   "execution_count": null,
   "metadata": {},
   "outputs": [],
   "source": []
  }
 ],
 "metadata": {
  "kernelspec": {
   "display_name": "Python 3",
   "language": "python",
   "name": "python3"
  },
  "language_info": {
   "codemirror_mode": {
    "name": "ipython",
    "version": 3
   },
   "file_extension": ".py",
   "mimetype": "text/x-python",
   "name": "python",
   "nbconvert_exporter": "python",
   "pygments_lexer": "ipython3",
   "version": "3.6.5"
  }
 },
 "nbformat": 4,
 "nbformat_minor": 2
}
